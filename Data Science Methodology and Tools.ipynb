{
 "cells": [
  {
   "cell_type": "markdown",
   "id": "dc62aa2d-4a99-4490-a434-30897adde98d",
   "metadata": {},
   "source": [
    "# Data Science Methodology and Tools"
   ]
  },
  {
   "cell_type": "markdown",
   "id": "f08b87c7-5cee-4754-8a54-43b3df253a62",
   "metadata": {},
   "source": [
    "# Data Science Methodology and Tools"
   ]
  },
  {
   "cell_type": "markdown",
   "id": "7e495a88-1538-45ff-a546-bdbb5eff4209",
   "metadata": {},
   "source": [
    "## Introduction  \n",
    "This notebook explores the fundamentals of data science, including popular programming languages, libraries, tools, and basic arithmetic operations. It also demonstrates how to apply data science methodologies to solve real-world problems, such as predicting customer churn in the credit card industry."
   ]
  },
  {
   "cell_type": "markdown",
   "id": "17481ce8-1f87-49dd-bb97-a35ea23a1dd4",
   "metadata": {},
   "source": [
    "## Introduction  \n",
    "This notebook explores the fundamentals of data science, including popular programming languages, libraries, tools, and basic arithmetic operations. It also demonstrates how to apply data science methodologies to solve real-world problems, such as predicting customer churn in the credit card industry."
   ]
  },
  {
   "cell_type": "markdown",
   "id": "38b0f83c-b74c-450d-bf97-79426ee2c280",
   "metadata": {},
   "source": [
    "## Data Science Languages  \n",
    "1. Python  \n",
    "2. R  \n",
    "3. SQL  \n",
    "4. Julia  \n",
    "5. Scala  "
   ]
  },
  {
   "cell_type": "markdown",
   "id": "e8b2fce6-4cc2-4181-b60a-2c7115b9fce2",
   "metadata": {},
   "source": [
    "## Data Science Languages  \n",
    "1. Python  \n",
    "2. R  \n",
    "3. SQL  \n",
    "4. Julia  \n",
    "5. Scala  "
   ]
  },
  {
   "cell_type": "markdown",
   "id": "4dbcc065-86b0-4918-a48f-4101d1067d18",
   "metadata": {},
   "source": [
    "## Data Science Libraries  \n",
    "1. Pandas (Python)  \n",
    "2. NumPy (Python)  \n",
    "3. Scikit-learn (Python)  \n",
    "4. TensorFlow (Python)  \n",
    "5. ggplot2 (R)  \n",
    "6. dplyr (R)  "
   ]
  },
  {
   "cell_type": "markdown",
   "id": "d7f460bc-5348-445b-899b-838b4afc7ed8",
   "metadata": {},
   "source": [
    "## Data Science Libraries  \n",
    "1. Pandas (Python)  \n",
    "2. NumPy (Python)  \n",
    "3. Scikit-learn (Python)  \n",
    "4. TensorFlow (Python)  \n",
    "5. ggplot2 (R)  \n",
    "6. dplyr (R)  "
   ]
  },
  {
   "cell_type": "markdown",
   "id": "f792c2b1-58a5-4722-8148-5ad3678395c6",
   "metadata": {},
   "source": [
    "## Data Science Tools  \n",
    "| Tool          | Purpose                          |  \n",
    "|---------------|----------------------------------|  \n",
    "| Jupyter       | Interactive coding and visualization |  \n",
    "| RStudio       | R programming and analysis       |  \n",
    "| Tableau       | Data visualization               |  \n",
    "| Apache Spark  | Big data processing              |  \n",
    "| Excel         | Data manipulation and analysis   |  "
   ]
  },
  {
   "cell_type": "markdown",
   "id": "1be1b11e-edaf-4235-8e71-46758f2fd602",
   "metadata": {},
   "source": [
    "## Data Science Tools  \n",
    "| Tool          | Purpose                          |  \n",
    "|---------------|----------------------------------|  \n",
    "| Jupyter       | Interactive coding and visualization |  \n",
    "| RStudio       | R programming and analysis       |  \n",
    "| Tableau       | Data visualization               |  \n",
    "| Apache Spark  | Big data processing              |  \n",
    "| Excel         | Data manipulation and analysis   |  "
   ]
  },
  {
   "cell_type": "markdown",
   "id": "60b85e41-086e-4d8f-b798-60372506b6e2",
   "metadata": {},
   "source": [
    "## Arithmetic Expression Examples  \n",
    "Arithmetic expressions are used to perform mathematical operations like addition, subtraction, multiplication, and division. Below are examples of how to use arithmetic expressions in Python."
   ]
  },
  {
   "cell_type": "markdown",
   "id": "7050510b-5818-4c9e-afbb-b4ce421531a7",
   "metadata": {},
   "source": [
    "## Arithmetic Expression Examples  \n",
    "Arithmetic expressions are used to perform mathematical operations like addition, subtraction, multiplication, and division. Below are examples of how to use arithmetic expressions in Python."
   ]
  },
  {
   "cell_type": "code",
   "execution_count": 2,
   "id": "1f2c84f6-593e-4716-94cc-5be99457f262",
   "metadata": {},
   "outputs": [
    {
     "name": "stdout",
     "output_type": "stream",
     "text": [
      "Result: 70\n"
     ]
    }
   ],
   "source": [
    "# Multiply and add numbers  \n",
    "a = 5\n",
    "b = 10  \n",
    "result = (a * b) + 20\n",
    "print(\"Result:\", result)"
   ]
  },
  {
   "cell_type": "code",
   "execution_count": 3,
   "id": "97795737-4ea1-4f64-a995-e13a344cea02",
   "metadata": {},
   "outputs": [
    {
     "name": "stdout",
     "output_type": "stream",
     "text": [
      "200 minutes is equal to 3.33 hours.\n"
     ]
    }
   ],
   "source": [
    "# Convert minutes to hours  \n",
    "minutes = 200  \n",
    "hours = minutes / 60  \n",
    "print(f\"{minutes} minutes is equal to {hours:.2f} hours.\")"
   ]
  },
  {
   "cell_type": "markdown",
   "id": "1481562c-83ae-4d96-9c6a-ed5087f0843a",
   "metadata": {},
   "source": [
    "## Objectives  \n",
    "- Understand the data science methodology.  \n",
    "- Explore popular data science languages and libraries.  \n",
    "- Learn about essential data science tools.  \n",
    "- Perform basic arithmetic operations in Python.  \n",
    "- Apply data science techniques to solve real-world problems.  "
   ]
  },
  {
   "cell_type": "markdown",
   "id": "c2413a66-97ce-4eb8-8c01-ade88cf3370d",
   "metadata": {},
   "source": [
    "## Objectives  \n",
    "- Understand the data science methodology.  \n",
    "- Explore popular data science languages and libraries.  \n",
    "- Learn about essential data science tools.  \n",
    "- Perform basic arithmetic operations in Python.  \n",
    "- Apply data science techniques to solve real-world problems.  "
   ]
  },
  {
   "cell_type": "markdown",
   "id": "d1d51e4d-ba85-4c50-b6fb-87e6279d5a63",
   "metadata": {},
   "source": [
    "## Author  \n",
    "Aijaz Danish Azeem"
   ]
  },
  {
   "cell_type": "markdown",
   "id": "baeabcd6-600e-4143-8218-8a739a5a2b62",
   "metadata": {},
   "source": [
    "## Author  \n",
    "Aijaz Danish Azeem"
   ]
  }
 ],
 "metadata": {
  "kernelspec": {
   "display_name": "Python 3 (ipykernel)",
   "language": "python",
   "name": "python3"
  },
  "language_info": {
   "codemirror_mode": {
    "name": "ipython",
    "version": 3
   },
   "file_extension": ".py",
   "mimetype": "text/x-python",
   "name": "python",
   "nbconvert_exporter": "python",
   "pygments_lexer": "ipython3",
   "version": "3.12.8"
  }
 },
 "nbformat": 4,
 "nbformat_minor": 5
}
